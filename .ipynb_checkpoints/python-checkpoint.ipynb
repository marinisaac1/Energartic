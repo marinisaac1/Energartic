{
 "cells": [
  {
   "cell_type": "code",
   "execution_count": 1,
   "id": "e96822bf",
   "metadata": {},
   "outputs": [],
   "source": [
    "# Libraries\n",
    "import xarray as xr\n",
    "import matplotlib.pyplot as plt\n",
    "from matplotlib import animation\n",
    "\n",
    "from IPython.display import HTML\n",
    "import cartopy\n",
    "import cartopy.crs as ccrs\n",
    "from cartopy.mpl.gridliner import LONGITUDE_FORMATTER, LATITUDE_FORMATTER\n",
    "\n",
    "from matplotlib.axes import Axes\n",
    "from cartopy.mpl.geoaxes import GeoAxes\n",
    "# from hda import * # this is the PYTHON version\n",
    "\n",
    "import numpy as np\n",
    "import pandas as pd"
   ]
  },
  {
   "cell_type": "code",
   "execution_count": null,
   "id": "ed88768d",
   "metadata": {},
   "outputs": [],
   "source": [
    "#Sea depth data\n",
    "sea_d = 'dataDepth/&service=ARCTIC_REANALYSIS_PHYS_002_003-TDS&product=dataset-ran-arc-day-myoceanv2-be&z_lo=Surface&z_hi=Surface&t_lo=2019-01-01T00:00:00.000Z&t_hi=2019-01-31T00:00:00.000Z&x_lo=-4.191050003531024&y_hi=58.2481843707866&x_hi=-1.202805462168175&y_lo=60.13655306093045&variable=model_depth'\n",
    "sea_d = xr.open_dataset(sea_d)\n",
    "# sea_d\n",
    "# Three dimensions matrix that contains the depth of the sea water \n",
    "sea_d = sea_d['model_depth']\n",
    "sea_d_df = sea_d.to_dataframe(name= None, dim_order=None)\n",
    "sea_d_df = sea_d_df[~sea_d_df['model_depth'].isnull()]\n",
    "sea_d_df.to_csv(\"sea_depth_final.csv\")\n",
    "sea_d_df[(sea_d_df[\"model_depth\"]>50) & (sea_d_df[\"model_depth\"]<500)]\n",
    "# sea_d_df"
   ]
  },
  {
   "cell_type": "code",
   "execution_count": null,
   "id": "5e153e8e",
   "metadata": {},
   "outputs": [],
   "source": [
    "min(sea_d_df[\"model_depth\"])"
   ]
  }
 ],
 "metadata": {
  "kernelspec": {
   "display_name": "Python 3 (ipykernel)",
   "language": "python",
   "name": "python3"
  },
  "language_info": {
   "codemirror_mode": {
    "name": "ipython",
    "version": 3
   },
   "file_extension": ".py",
   "mimetype": "text/x-python",
   "name": "python",
   "nbconvert_exporter": "python",
   "pygments_lexer": "ipython3",
   "version": "3.8.12"
  }
 },
 "nbformat": 4,
 "nbformat_minor": 5
}
