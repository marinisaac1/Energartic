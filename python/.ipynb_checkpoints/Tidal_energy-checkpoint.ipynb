{
 "cells": [
  {
   "cell_type": "code",
   "execution_count": 1,
   "id": "e96822bf",
   "metadata": {},
   "outputs": [],
   "source": [
    "# Libraries\n",
    "import xarray as xr\n",
    "import matplotlib.pyplot as plt\n",
    "from matplotlib import animation\n",
    "\n",
    "from IPython.display import HTML\n",
    "import cartopy\n",
    "import cartopy.crs as ccrs\n",
    "from cartopy.mpl.gridliner import LONGITUDE_FORMATTER, LATITUDE_FORMATTER\n",
    "\n",
    "from matplotlib.axes import Axes\n",
    "from cartopy.mpl.geoaxes import GeoAxes\n",
    "# from hda import * # this is the PYTHON version\n",
    "\n",
    "import numpy as np\n",
    "import pandas as pd"
   ]
  },
  {
   "cell_type": "code",
   "execution_count": null,
   "id": "ed88768d",
   "metadata": {},
   "outputs": [],
   "source": [
    "#Sea depth data\n",
    "sea_d = 'dataDepth/&service=ARCTIC_REANALYSIS_PHYS_002_003-TDS&product=dataset-ran-arc-day-myoceanv2-be&z_lo=Surface&z_hi=Surface&t_lo=2019-01-01T00:00:00.000Z&t_hi=2019-01-31T00:00:00.000Z&x_lo=-4.191050003531024&y_hi=58.2481843707866&x_hi=-1.202805462168175&y_lo=60.13655306093045&variable=model_depth'\n",
    "sea_d = xr.open_dataset(sea_d)\n",
    "# sea_d\n",
    "# Three dimensions matrix that contains the depth of the sea water \n",
    "sea_d = sea_d['model_depth']\n",
    "sea_d_df = sea_d.to_dataframe(name= None, dim_order=None)\n",
    "sea_d_df = sea_d_df[~sea_d_df['model_depth'].isnull()]\n",
    "sea_d_df.to_csv(\"sea_depth_final.csv\")\n",
    "sea_d_df[(sea_d_df[\"model_depth\"]>50) & (sea_d_df[\"model_depth\"]<500)]\n",
    "# sea_d_df"
   ]
  },
  {
   "cell_type": "code",
   "execution_count": null,
   "id": "5e153e8e",
   "metadata": {},
   "outputs": [],
   "source": [
    "min(sea_d_df[\"model_depth\"])"
   ]
  },
  {
   "cell_type": "code",
   "execution_count": null,
   "id": "975ce591",
   "metadata": {},
   "outputs": [],
   "source": [
    "#Sea water\n",
    "\n",
    "#Northward sea water speed\n",
    "sea_v_n = 'dataNorth/&service=ARCTIC_REANALYSIS_PHYS_002_003-TDS&product=dataset-ran-arc-day-myoceanv2-be&z_lo=Surface&z_hi=Surface&t_lo=2019-01-01T00:00:00.000Z&t_hi=2019-01-31T00:00:00.000Z&x_lo=-4.191050003531024&y_hi=58.2481843707866&x_hi=-1.202805462168175&y_lo=60.13655306093045&variable=v'\n",
    "sea_v_n_xr = xr.open_dataset(sea_v_n)\n",
    "# sea_v_n_xr\n",
    "# Four dimensions matrix that contains the speed in North\n",
    "sea_v_n = sea_v_n_xr['v']\n",
    "\n",
    "#Eastward sea water speed\n",
    "sea_v_e = 'dataEast/&service=ARCTIC_REANALYSIS_PHYS_002_003-TDS&product=dataset-ran-arc-day-myoceanv2-be&z_lo=Surface&z_hi=Surface&t_lo=2019-01-01T00:00:00.000Z&t_hi=2019-01-31T00:00:00.000Z&x_lo=-4.191050003531024&y_hi=58.2481843707866&x_hi=-1.202805462168175&y_lo=60.13655306093045&variable=u'\n",
    "sea_v_e_xr = xr.open_dataset(sea_v_e)\n",
    "# sea_v_e_xr\n",
    "# Four dimensions matrix that contains the speed in East\n",
    "sea_v_e = sea_v_e_xr['u']\n",
    "\n",
    "# Net speed\n",
    "sea_v = np.sqrt(np.power(sea_v_e,2)+np.power(sea_v_n,2)) \n",
    "# sea_v\n",
    "sea_v_df = sea_v.to_dataframe(name= \"speed\", dim_order=None)\n",
    "sea_v_df = sea_v_df[~sea_v_df[\"speed\"].isnull()]\n",
    "\n",
    "sea_v_df.to_csv(\"sea_v_final.csv\")"
   ]
  },
  {
   "cell_type": "code",
   "execution_count": null,
   "id": "58717643",
   "metadata": {},
   "outputs": [],
   "source": [
    "max(sea_v_df[\"speed\"])"
   ]
  },
  {
   "cell_type": "code",
   "execution_count": null,
   "id": "4d6300dc",
   "metadata": {},
   "outputs": [],
   "source": [
    "# Depth fetching \n",
    "\n",
    "depth = pd.read_csv(\"sea_depth2.csv\", delimiter=',', decimal='.')\n",
    "sea_v = pd.read_csv(\"sea_v2.csv\", delimiter=',', decimal='.')\n",
    "\n",
    "sea_depth = []\n",
    "counter = 0\n",
    "for row in range(len(sea_v)): \n",
    "    value = depth[(depth[\"latitude\"] == sea_v[\"latitude\"][row]) & (depth[\"longitude\"] == sea_v[\"longitude\"][row])][\"model_depth\"].tolist()\n",
    "    if len(value) !=0:\n",
    "        sea_depth += value\n",
    "    else: \n",
    "        counter += 1\n",
    "# counter\n",
    "\n",
    "sea_v[\"sea_depth\"] = sea_depth \n",
    "# sea_v\n",
    "# sea_v.to_csv(\"Speed_depth_filter.csv\")\n",
    "\n",
    "sea_v_filter = sea_v[(sea_v[\"sea_depth\"]>40) & (sea_v[\"sea_depth\"]<200)]\n",
    "# sea_v_filter.to_csv(\"Speed_depth_filter.csv\")\n",
    "\n",
    "sea_v_filter = sea_v_filter.reset_index()\n"
   ]
  },
  {
   "cell_type": "code",
   "execution_count": null,
   "id": "935dec98",
   "metadata": {},
   "outputs": [],
   "source": [
    "# Power calculation \n",
    "def tidalPower(n = 1, dens = 1025, area = 10, v = 1, maxV = 5):\n",
    "    \"\"\"\n",
    "    P = Power generated in W\n",
    "    n = turbine efficiency [0-1]\n",
    "    dens = water density in kg/m^3\n",
    "    area = sweep area of the turbine in m^2\n",
    "    v = velocity of the flow in m/s\n",
    "    \"\"\"\n",
    "    if v < maxV:\n",
    "        P = n*dens*area*v**3/2\n",
    "    else:\n",
    "        P = 0\n",
    "    return P\n",
    "\n",
    "def wavesPower(H = 5, Te = 10, dens = 1025, g = 9.8, maxH = 8):\n",
    "    \"\"\"\n",
    "    P  = wave energy flux per unit of wave-crest length\n",
    "    H = the significant wave height in m\n",
    "    Te = the wave energy period in s\n",
    "    dens = the water density\n",
    "    g  = the acceleration by gravity\n",
    "    \n",
    "    When the significant wave height is given in meters, \n",
    "    and the wave period in seconds, the result is the wave power in kilowatts (kW) \n",
    "    per meter of wave front length.\n",
    "    \"\"\"\n",
    "    if H < maxH:\n",
    "        P = dens*g**2*H**2*Te/64*3.14\n",
    "    else:\n",
    "        P = 0\n",
    "    return P\n",
    "    \n",
    "def energyProduced(passedTime = None, power = None):\n",
    "    e = power/3600*passedTime\n",
    "    return e"
   ]
  },
  {
   "cell_type": "code",
   "execution_count": null,
   "id": "ab256b73",
   "metadata": {},
   "outputs": [],
   "source": [
    "# Possible power calculation \n",
    "nTurbine = 0.4\n",
    "areaTurbine = 5**2 * 3.14\n",
    "# velocity = 1.5\n",
    "out_energy = []\n",
    "\n",
    "for row in range(len(sea_v_filter)):\n",
    "    velocity = sea_v_filter[\"speed\"][row]\n",
    "    totalEnergy = 0\n",
    "    for i in range(24): #in 24 hours\n",
    "        P = tidalPower(n = nTurbine, area = areaTurbine, v = velocity)\n",
    "        energy = energyProduced(3600, P)\n",
    "        totalEnergy = (totalEnergy + energy)\n",
    "        #print(P/1000)\n",
    "    out_energy += [totalEnergy]"
   ]
  },
  {
   "cell_type": "code",
   "execution_count": null,
   "id": "a5b7f71a",
   "metadata": {},
   "outputs": [],
   "source": [
    "sea_v_filter[\"energy\"] = out_energy\n",
    "sea_v_filter.to_csv(\"Energy_per_day.csv\")"
   ]
  },
  {
   "cell_type": "code",
   "execution_count": null,
   "id": "39ce8177",
   "metadata": {},
   "outputs": [],
   "source": [
    "max(sea_v_filter[\"energy\"])"
   ]
  }
 ],
 "metadata": {
  "kernelspec": {
   "display_name": "Python 3 (ipykernel)",
   "language": "python",
   "name": "python3"
  },
  "language_info": {
   "codemirror_mode": {
    "name": "ipython",
    "version": 3
   },
   "file_extension": ".py",
   "mimetype": "text/x-python",
   "name": "python",
   "nbconvert_exporter": "python",
   "pygments_lexer": "ipython3",
   "version": "3.8.12"
  }
 },
 "nbformat": 4,
 "nbformat_minor": 5
}
