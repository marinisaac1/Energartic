{
 "cells": [
  {
   "cell_type": "code",
   "execution_count": 17,
   "id": "937d5980",
   "metadata": {},
   "outputs": [
    {
     "name": "stdout",
     "output_type": "stream",
     "text": [
      "Collecting tqdm\n",
      "  Downloading tqdm-4.62.3-py2.py3-none-any.whl (76 kB)\n",
      "Requirement already satisfied: colorama in c:\\users\\natal\\anaconda3\\envs\\energartic\\lib\\site-packages (from tqdm) (0.4.4)\n",
      "Installing collected packages: tqdm\n",
      "Successfully installed tqdm-4.62.3\n"
     ]
    }
   ],
   "source": [
    "# ! pip install tqdm"
   ]
  },
  {
   "cell_type": "code",
   "execution_count": 18,
   "id": "e96822bf",
   "metadata": {},
   "outputs": [],
   "source": [
    "# Libraries\n",
    "import xarray as xr\n",
    "import matplotlib.pyplot as plt\n",
    "from matplotlib import animation\n",
    "\n",
    "from IPython.display import HTML\n",
    "import cartopy\n",
    "import cartopy.crs as ccrs\n",
    "from cartopy.mpl.gridliner import LONGITUDE_FORMATTER, LATITUDE_FORMATTER\n",
    "\n",
    "from matplotlib.axes import Axes\n",
    "from cartopy.mpl.geoaxes import GeoAxes\n",
    "# from hda import * # this is the PYTHON version\n",
    "\n",
    "import numpy as np\n",
    "import pandas as pd\n",
    "from tqdm import tqdm"
   ]
  },
  {
   "cell_type": "code",
   "execution_count": 3,
   "id": "ed88768d",
   "metadata": {},
   "outputs": [],
   "source": [
    "#Sea depth data\n",
    "sea_d = 'dataDepth/dataDepth'\n",
    "sea_d = xr.open_dataset(sea_d)\n",
    "# sea_d\n",
    "# Three dimensions matrix that contains the depth of the sea water \n",
    "sea_d = sea_d['model_depth']\n",
    "sea_d_df = sea_d.to_dataframe(name= None, dim_order=None)\n",
    "sea_d_df = sea_d_df[~sea_d_df['model_depth'].isnull()]\n",
    "sea_d_df.to_csv(\"sea_depth_final.csv\")\n",
    "# sea_d_df[(sea_d_df[\"model_depth\"]>50) & (sea_d_df[\"model_depth\"]<500)]\n",
    "# sea_d_df"
   ]
  },
  {
   "cell_type": "code",
   "execution_count": 4,
   "id": "5e153e8e",
   "metadata": {
    "scrolled": true
   },
   "outputs": [
    {
     "data": {
      "text/plain": [
       "12.82080078125"
      ]
     },
     "execution_count": 4,
     "metadata": {},
     "output_type": "execute_result"
    }
   ],
   "source": [
    "min(sea_d_df[\"model_depth\"])"
   ]
  },
  {
   "cell_type": "code",
   "execution_count": 7,
   "id": "f72f62c4",
   "metadata": {},
   "outputs": [],
   "source": [
    "#Sea water\n",
    "\n",
    "#Northward sea water speed\n",
    "sea_v_n = 'dataX/xFinal'\n",
    "sea_v_n_xr = xr.open_dataset(sea_v_n)\n",
    "# sea_v_n_xr\n",
    "# Four dimensions matrix that contains the speed in North\n",
    "sea_v_n = sea_v_n_xr['u']\n",
    "\n",
    "#Eastward sea water speed\n",
    "sea_v_e = 'dataY/YFinal'\n",
    "sea_v_e_xr = xr.open_dataset(sea_v_e)\n",
    "# sea_v_e_xr\n",
    "# Four dimensions matrix that contains the speed in East\n",
    "sea_v_e = sea_v_e_xr['v']\n",
    "\n",
    "# Net speed\n",
    "sea_v = np.sqrt(np.power(sea_v_e,2)+np.power(sea_v_n,2)) \n",
    "# sea_v\n",
    "sea_v_df = sea_v.to_dataframe(name= \"speed\", dim_order=None)\n",
    "sea_v_df = sea_v_df[~sea_v_df[\"speed\"].isnull()]\n",
    "\n",
    "sea_v_df.to_csv(\"sea_v_final.csv\")"
   ]
  },
  {
   "cell_type": "code",
   "execution_count": 9,
   "id": "07a3e381",
   "metadata": {},
   "outputs": [
    {
     "data": {
      "text/plain": [
       "0.6797621846199036"
      ]
     },
     "execution_count": 9,
     "metadata": {},
     "output_type": "execute_result"
    }
   ],
   "source": [
    "max(sea_v_df[\"speed\"])"
   ]
  },
  {
   "cell_type": "code",
   "execution_count": 19,
   "id": "e0087414",
   "metadata": {},
   "outputs": [
    {
     "name": "stderr",
     "output_type": "stream",
     "text": [
      "100%|██████████| 867845/867845 [14:28<00:00, 999.08it/s] \n"
     ]
    }
   ],
   "source": [
    "# Depth fetching \n",
    "\n",
    "depth = pd.read_csv(\"sea_depth_final.csv\", delimiter=',', decimal='.')\n",
    "sea_v = pd.read_csv(\"sea_v_final.csv\", delimiter=',', decimal='.')\n",
    "\n",
    "sea_depth = []\n",
    "counter = 0\n",
    "for row in tqdm(range(len(sea_v))): \n",
    "    value = depth[(depth[\"latitude\"] == sea_v[\"latitude\"][row]) & (depth[\"longitude\"] == sea_v[\"longitude\"][row])][\"model_depth\"].tolist()\n",
    "    if len(value) !=0:\n",
    "        sea_depth += value\n",
    "    else: \n",
    "        counter += 1\n",
    "# counter\n",
    "\n",
    "sea_v[\"sea_depth\"] = sea_depth \n",
    "# sea_v\n",
    "# sea_v.to_csv(\"Speed_depth_filter.csv\")\n",
    "\n",
    "sea_v_filter = sea_v[(sea_v[\"sea_depth\"]>40) & (sea_v[\"sea_depth\"]<200)]\n",
    "# sea_v_filter.to_csv(\"Speed_depth_filter.csv\")\n",
    "\n",
    "sea_v_filter = sea_v_filter.reset_index()\n"
   ]
  },
  {
   "cell_type": "code",
   "execution_count": 36,
   "id": "67001821",
   "metadata": {},
   "outputs": [],
   "source": [
    "sea_v_filter.to_csv(\"Speed_depth_filter_final.csv\")"
   ]
  },
  {
   "cell_type": "code",
   "execution_count": 21,
   "id": "99124efe",
   "metadata": {},
   "outputs": [],
   "source": [
    "# Power calculation \n",
    "def tidalPower(n = 1, dens = 1025, area = 10, v = 1, maxV = 5):\n",
    "    \"\"\"\n",
    "    P = Power generated in W\n",
    "    n = turbine efficiency [0-1]\n",
    "    dens = water density in kg/m^3\n",
    "    area = sweep area of the turbine in m^2\n",
    "    v = velocity of the flow in m/s\n",
    "    \"\"\"\n",
    "    if v < maxV:\n",
    "        P = n*dens*area*v**3/2\n",
    "    else:\n",
    "        P = 0\n",
    "    return P\n",
    "\n",
    "def wavesPower(H = 5, Te = 10, dens = 1025, g = 9.8, maxH = 8):\n",
    "    \"\"\"\n",
    "    P  = wave energy flux per unit of wave-crest length\n",
    "    H = the significant wave height in m\n",
    "    Te = the wave energy period in s\n",
    "    dens = the water density\n",
    "    g  = the acceleration by gravity\n",
    "    \n",
    "    When the significant wave height is given in meters, \n",
    "    and the wave period in seconds, the result is the wave power in kilowatts (kW) \n",
    "    per meter of wave front length.\n",
    "    \"\"\"\n",
    "    if H < maxH:\n",
    "        P = dens*g**2*H**2*Te/64*3.14\n",
    "    else:\n",
    "        P = 0\n",
    "    return P\n",
    "    \n",
    "def energyProduced(passedTime = None, power = None):\n",
    "    e = power/3600*passedTime\n",
    "    return e"
   ]
  },
  {
   "cell_type": "code",
   "execution_count": 22,
   "id": "f4ac3d2a",
   "metadata": {},
   "outputs": [
    {
     "name": "stderr",
     "output_type": "stream",
     "text": [
      "100%|██████████| 108283/108283 [00:09<00:00, 11747.86it/s]\n"
     ]
    }
   ],
   "source": [
    "# Possible power calculation \n",
    "nTurbine = 0.4\n",
    "areaTurbine = 5**2 * 3.14\n",
    "# velocity = 1.5\n",
    "out_energy = []\n",
    "\n",
    "for row in tqdm(range(len(sea_v_filter))):\n",
    "    velocity = sea_v_filter[\"speed\"][row]\n",
    "    totalEnergy = 0\n",
    "    for i in range(24): #in 24 hours\n",
    "        P = tidalPower(n = nTurbine, area = areaTurbine, v = velocity)\n",
    "        energy = energyProduced(3600, P)\n",
    "        totalEnergy = (totalEnergy + energy)\n",
    "        #print(P/1000)\n",
    "    out_energy += [totalEnergy]"
   ]
  },
  {
   "cell_type": "code",
   "execution_count": 25,
   "id": "95f68b3b",
   "metadata": {},
   "outputs": [],
   "source": [
    "sea_v_filter[\"energy\"] = out_energy\n",
    "sea_v_filter.to_csv(\"Energy_per_day_final.csv\")"
   ]
  },
  {
   "cell_type": "code",
   "execution_count": 29,
   "id": "d8856055",
   "metadata": {},
   "outputs": [],
   "source": [
    "max_energy = max(sea_v_filter[\"energy\"])"
   ]
  },
  {
   "cell_type": "code",
   "execution_count": 30,
   "id": "e872d60e",
   "metadata": {},
   "outputs": [
    {
     "data": {
      "text/html": [
       "<div>\n",
       "<style scoped>\n",
       "    .dataframe tbody tr th:only-of-type {\n",
       "        vertical-align: middle;\n",
       "    }\n",
       "\n",
       "    .dataframe tbody tr th {\n",
       "        vertical-align: top;\n",
       "    }\n",
       "\n",
       "    .dataframe thead th {\n",
       "        text-align: right;\n",
       "    }\n",
       "</style>\n",
       "<table border=\"1\" class=\"dataframe\">\n",
       "  <thead>\n",
       "    <tr style=\"text-align: right;\">\n",
       "      <th></th>\n",
       "      <th>index</th>\n",
       "      <th>time</th>\n",
       "      <th>depth</th>\n",
       "      <th>y</th>\n",
       "      <th>x</th>\n",
       "      <th>latitude</th>\n",
       "      <th>longitude</th>\n",
       "      <th>speed</th>\n",
       "      <th>sea_depth</th>\n",
       "      <th>energy</th>\n",
       "    </tr>\n",
       "  </thead>\n",
       "  <tbody>\n",
       "    <tr>\n",
       "      <th>63938</th>\n",
       "      <td>519373</td>\n",
       "      <td>2019-01-19</td>\n",
       "      <td>0.0</td>\n",
       "      <td>-27.625</td>\n",
       "      <td>3.75</td>\n",
       "      <td>65.34461</td>\n",
       "      <td>-37.269547</td>\n",
       "      <td>0.658189</td>\n",
       "      <td>174.60449</td>\n",
       "      <td>110125.176912</td>\n",
       "    </tr>\n",
       "  </tbody>\n",
       "</table>\n",
       "</div>"
      ],
      "text/plain": [
       "        index        time  depth       y     x  latitude  longitude     speed  \\\n",
       "63938  519373  2019-01-19    0.0 -27.625  3.75  65.34461 -37.269547  0.658189   \n",
       "\n",
       "       sea_depth         energy  \n",
       "63938  174.60449  110125.176912  "
      ]
     },
     "execution_count": 30,
     "metadata": {},
     "output_type": "execute_result"
    }
   ],
   "source": [
    "sea_v_filter[sea_v_filter[\"energy\"]== max_energy]"
   ]
  },
  {
   "cell_type": "code",
   "execution_count": 31,
   "id": "fea136e6",
   "metadata": {},
   "outputs": [
    {
     "data": {
      "text/plain": [
       "65.34461"
      ]
     },
     "execution_count": 31,
     "metadata": {},
     "output_type": "execute_result"
    }
   ],
   "source": [
    "sea_v_filter[\"latitude\"][63938]"
   ]
  },
  {
   "cell_type": "code",
   "execution_count": 35,
   "id": "fe610c0d",
   "metadata": {},
   "outputs": [
    {
     "data": {
      "text/plain": [
       "29886.144695771756"
      ]
     },
     "execution_count": 35,
     "metadata": {},
     "output_type": "execute_result"
    }
   ],
   "source": [
    "max_value = sea_v_filter[(sea_v_filter[\"latitude\"]==sea_v_filter[\"latitude\"][63938]) & (sea_v_filter[\"longitude\"]==sea_v_filter[\"longitude\"][63938])]\n",
    "total_energy = max_value[\"energy\"].mean()\n",
    "total_energy"
   ]
  }
 ],
 "metadata": {
  "kernelspec": {
   "display_name": "Python 3 (ipykernel)",
   "language": "python",
   "name": "python3"
  },
  "language_info": {
   "codemirror_mode": {
    "name": "ipython",
    "version": 3
   },
   "file_extension": ".py",
   "mimetype": "text/x-python",
   "name": "python",
   "nbconvert_exporter": "python",
   "pygments_lexer": "ipython3",
   "version": "3.8.12"
  }
 },
 "nbformat": 4,
 "nbformat_minor": 5
}
