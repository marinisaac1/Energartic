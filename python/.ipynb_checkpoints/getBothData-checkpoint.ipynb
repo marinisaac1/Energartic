{
 "cells": [
  {
   "cell_type": "code",
   "execution_count": 1,
   "metadata": {},
   "outputs": [],
   "source": [
    "import os\n",
    "import sys\n",
    "import json\n",
    "import time\n",
    "import base64\n",
    "\n",
    "import requests\n",
    "import warnings\n",
    "warnings.filterwarnings('ignore')\n",
    "# HDA API tools\n",
    "from hda import * # this is the PYTHON version\n",
    "%run hda/hda_api_functions.py"
   ]
  },
  {
   "cell_type": "code",
   "execution_count": 2,
   "metadata": {},
   "outputs": [
    {
     "data": {
      "text/plain": [
       "'bWFyaW5pc2FhYzE6RE0zSEBEOWozVGtQRGJ4'"
      ]
     },
     "execution_count": 2,
     "metadata": {},
     "output_type": "execute_result"
    }
   ],
   "source": [
    "user_name = 'marinisaac1'\n",
    "password = 'DM3H@D9j3TkPDbx'\n",
    "api_key = generate_api_key(user_name, password)\n",
    "api_key\n",
    "#api_key = \"bWFyaW5pc2FhYzE6RE0zSEBEOWozVGtQRGJ4\""
   ]
  },
  {
   "cell_type": "code",
   "execution_count": 3,
   "metadata": {},
   "outputs": [
    {
     "name": "stdout",
     "output_type": "stream",
     "text": [
      "Getting an access token. This token is valid for one hour only.\n",
      "Success: Access token is 170fc528-55a6-30cb-adc2-64827c949308\n",
      "Copernicus_General_License Terms and Conditions already accepted\n",
      "Query successfully submitted. Job ID is zjuDqie-v8cROyCNRCopmZIBfk0\n",
      "Next check in 5 seconds\n",
      "Query successfully submitted. Status is running\n",
      "Next check in 10 seconds\n",
      "Query successfully submitted. Status is completed\n",
      "&service=GLOBAL_ANALYSIS_FORECAST_PHY_001_024-TDS&product=global-analysis-forecast-phy-001-024&z_lo=0.49402499198913574&z_hi=0.49402499198913574&t_lo=2019-01-01T00:00:00.000Z&t_hi=2019-01-02T00:00:00.000Z&x_lo=-58.44760879398671&y_hi=59.087842931661264&x_hi=-10.401297269088047&y_lo=66.7199817553885&variable=vo\n",
      "Query successfully submitted. Order ID is OYWh6EZEfTVtJqstjlWnPSJNUGc\n",
      "Next check in 5 seconds\n",
      "Query successfully submitted. Status is completed\n",
      "Downloading ./yDepth/&service=GLOBAL_ANALYSIS_FORECAST_PHY_001_024-TDS&product=global-analysis-forecast-phy-001-024&z_lo=0.49402499198913574&z_hi=0.49402499198913574&t_lo=2019-01-01T00:00:00.000Z&t_hi=2019-01-02T00:00:00.000Z&x_lo=-58.44760879398671&y_hi=59.087842931661264&x_hi=-10.401297269088047&y_lo=66.7199817553885&variable=vo\n"
     ]
    },
    {
     "ename": "OSError",
     "evalue": "[Errno 22] Invalid argument: './yDepth/&service=GLOBAL_ANALYSIS_FORECAST_PHY_001_024-TDS&product=global-analysis-forecast-phy-001-024&z_lo=0.49402499198913574&z_hi=0.49402499198913574&t_lo=2019-01-01T00:00:00.000Z&t_hi=2019-01-02T00:00:00.000Z&x_lo=-58.44760879398671&y_hi=59.087842931661264&x_hi=-10.401297269088047&y_lo=66.7199817553885&variable=vo'",
     "output_type": "error",
     "traceback": [
      "\u001b[1;31m---------------------------------------------------------------------------\u001b[0m",
      "\u001b[1;31mOSError\u001b[0m                                   Traceback (most recent call last)",
      "\u001b[1;32m~\\AppData\\Local\\Temp/ipykernel_47396/757333412.py\u001b[0m in \u001b[0;36m<module>\u001b[1;34m\u001b[0m\n\u001b[0;32m     11\u001b[0m \u001b[0mhda_dict\u001b[0m \u001b[1;33m=\u001b[0m \u001b[0mget_results_list\u001b[0m\u001b[1;33m(\u001b[0m\u001b[0mhda_dict\u001b[0m\u001b[1;33m)\u001b[0m\u001b[1;33m\u001b[0m\u001b[1;33m\u001b[0m\u001b[0m\n\u001b[0;32m     12\u001b[0m \u001b[0mhda_dict\u001b[0m \u001b[1;33m=\u001b[0m \u001b[0mget_order_ids\u001b[0m\u001b[1;33m(\u001b[0m\u001b[0mhda_dict\u001b[0m\u001b[1;33m)\u001b[0m\u001b[1;33m\u001b[0m\u001b[1;33m\u001b[0m\u001b[0m\n\u001b[1;32m---> 13\u001b[1;33m \u001b[0mdownload_data\u001b[0m\u001b[1;33m(\u001b[0m\u001b[0mhda_dict\u001b[0m\u001b[1;33m)\u001b[0m\u001b[1;33m\u001b[0m\u001b[1;33m\u001b[0m\u001b[0m\n\u001b[0m",
      "\u001b[1;32m~\\OneDrive - Universidad de Oviedo\\Energartic\\python\\hda\\hda_api_functions.py\u001b[0m in \u001b[0;36mdownload_data\u001b[1;34m(hda_dict, file_extension, user_filename)\u001b[0m\n\u001b[0;32m    448\u001b[0m         \u001b[0mproduct_size\u001b[0m \u001b[1;33m=\u001b[0m \u001b[0mhda_dict\u001b[0m\u001b[1;33m[\u001b[0m\u001b[1;34m'order_sizes'\u001b[0m\u001b[1;33m]\u001b[0m\u001b[1;33m[\u001b[0m\u001b[0mi\u001b[0m\u001b[1;33m]\u001b[0m\u001b[1;33m\u001b[0m\u001b[1;33m\u001b[0m\u001b[0m\n\u001b[0;32m    449\u001b[0m \u001b[1;33m\u001b[0m\u001b[0m\n\u001b[1;32m--> 450\u001b[1;33m         time_elapsed = downloadFile(download_url, hda_dict['headers'],\\\n\u001b[0m\u001b[0;32m    451\u001b[0m                        \u001b[0mhda_dict\u001b[0m\u001b[1;33m[\u001b[0m\u001b[1;34m'download_dir_path'\u001b[0m\u001b[1;33m]\u001b[0m\u001b[1;33m,\u001b[0m \u001b[0mfile_name\u001b[0m\u001b[1;33m,\u001b[0m\u001b[0;31m\\\u001b[0m\u001b[1;33m\u001b[0m\u001b[1;33m\u001b[0m\u001b[0m\n\u001b[0;32m    452\u001b[0m                        product_size)\n",
      "\u001b[1;32m~\\OneDrive - Universidad de Oviedo\\Energartic\\python\\hda\\hda_api_functions.py\u001b[0m in \u001b[0;36mdownloadFile\u001b[1;34m(url, headers, directory, file_name, total_length)\u001b[0m\n\u001b[0;32m    341\u001b[0m         \u001b[0mfilename\u001b[0m \u001b[1;33m=\u001b[0m \u001b[0mos\u001b[0m\u001b[1;33m.\u001b[0m\u001b[0mpath\u001b[0m\u001b[1;33m.\u001b[0m\u001b[0mjoin\u001b[0m\u001b[1;33m(\u001b[0m\u001b[0mdirectory\u001b[0m\u001b[1;33m,\u001b[0m  \u001b[0mfile_name\u001b[0m\u001b[1;33m)\u001b[0m\u001b[1;33m\u001b[0m\u001b[1;33m\u001b[0m\u001b[0m\n\u001b[0;32m    342\u001b[0m         \u001b[0mprint\u001b[0m\u001b[1;33m(\u001b[0m\u001b[1;34m\"Downloading \"\u001b[0m \u001b[1;33m+\u001b[0m \u001b[0mfilename\u001b[0m\u001b[1;33m)\u001b[0m\u001b[1;33m\u001b[0m\u001b[1;33m\u001b[0m\u001b[0m\n\u001b[1;32m--> 343\u001b[1;33m         \u001b[1;32mwith\u001b[0m \u001b[0mopen\u001b[0m\u001b[1;33m(\u001b[0m\u001b[0mfilename\u001b[0m\u001b[1;33m,\u001b[0m \u001b[1;34m'wb'\u001b[0m\u001b[1;33m)\u001b[0m \u001b[1;32mas\u001b[0m \u001b[0mf\u001b[0m\u001b[1;33m:\u001b[0m\u001b[1;33m\u001b[0m\u001b[1;33m\u001b[0m\u001b[0m\n\u001b[0m\u001b[0;32m    344\u001b[0m             \u001b[0mstart\u001b[0m \u001b[1;33m=\u001b[0m \u001b[0mtime\u001b[0m\u001b[1;33m.\u001b[0m\u001b[0mprocess_time\u001b[0m\u001b[1;33m(\u001b[0m\u001b[1;33m)\u001b[0m\u001b[1;33m\u001b[0m\u001b[1;33m\u001b[0m\u001b[0m\n\u001b[0;32m    345\u001b[0m             \u001b[0mprint\u001b[0m\u001b[1;33m(\u001b[0m\u001b[1;34m\"File size is: %8.2f MB\"\u001b[0m \u001b[1;33m%\u001b[0m \u001b[1;33m(\u001b[0m\u001b[0mtotal_length\u001b[0m\u001b[1;33m/\u001b[0m\u001b[1;33m(\u001b[0m\u001b[1;36m1024\u001b[0m\u001b[1;33m*\u001b[0m\u001b[1;36m1024\u001b[0m\u001b[1;33m)\u001b[0m\u001b[1;33m)\u001b[0m\u001b[1;33m)\u001b[0m\u001b[1;33m\u001b[0m\u001b[1;33m\u001b[0m\u001b[0m\n",
      "\u001b[1;31mOSError\u001b[0m: [Errno 22] Invalid argument: './yDepth/&service=GLOBAL_ANALYSIS_FORECAST_PHY_001_024-TDS&product=global-analysis-forecast-phy-001-024&z_lo=0.49402499198913574&z_hi=0.49402499198913574&t_lo=2019-01-01T00:00:00.000Z&t_hi=2019-01-02T00:00:00.000Z&x_lo=-58.44760879398671&y_hi=59.087842931661264&x_hi=-10.401297269088047&y_lo=66.7199817553885&variable=vo'"
     ]
    }
   ],
   "source": [
    "dataset_id = \"EO:MO:DAT:GLOBAL_ANALYSIS_FORECAST_PHY_001_024\"\n",
    "# Enter here the directory path where you want to download the data to\n",
    "download_dir_path = './yDepth/'\n",
    "hda_dict = init(dataset_id, api_key, download_dir_path)\n",
    "hda_dict = get_access_token(hda_dict)\n",
    "hda_dict = acceptTandC(hda_dict)\n",
    "with open('./yDepth.json', 'r') as f:\n",
    "    data = json.load(f)\n",
    "data\n",
    "hda_dict = get_job_id(hda_dict,data)\n",
    "hda_dict = get_results_list(hda_dict)\n",
    "hda_dict = get_order_ids(hda_dict)\n",
    "download_data(hda_dict)"
   ]
  },
  {
   "cell_type": "code",
   "execution_count": null,
   "metadata": {},
   "outputs": [],
   "source": [
    "dataset_id = \"EO:MO:DAT:ARCTIC_ANALYSISFORECAST_PHY_TIDE_002_015\"\n",
    "# Enter here the directory path where you want to download the data to\n",
    "download_dir_path = './ySurface/'\n",
    "hda_dict = init(dataset_id, api_key, download_dir_path)\n",
    "hda_dict = get_access_token(hda_dict)\n",
    "hda_dict = acceptTandC(hda_dict)\n",
    "with open('./ySurface.json', 'r') as f:\n",
    "    data = json.load(f)\n",
    "data\n",
    "hda_dict = get_job_id(hda_dict,data)\n",
    "hda_dict = get_results_list(hda_dict)\n",
    "hda_dict = get_order_ids(hda_dict)\n",
    "download_data(hda_dict)"
   ]
  }
 ],
 "metadata": {
  "kernelspec": {
   "display_name": "Python 3 (ipykernel)",
   "language": "python",
   "name": "python3"
  },
  "language_info": {
   "codemirror_mode": {
    "name": "ipython",
    "version": 3
   },
   "file_extension": ".py",
   "mimetype": "text/x-python",
   "name": "python",
   "nbconvert_exporter": "python",
   "pygments_lexer": "ipython3",
   "version": "3.9.7"
  }
 },
 "nbformat": 4,
 "nbformat_minor": 4
}
