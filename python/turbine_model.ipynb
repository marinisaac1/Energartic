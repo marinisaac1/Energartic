{
 "cells": [
  {
   "cell_type": "code",
   "execution_count": 3,
   "id": "52ff5a92",
   "metadata": {},
   "outputs": [],
   "source": []
  },
  {
   "cell_type": "code",
   "execution_count": null,
   "id": "1020b710",
   "metadata": {},
   "outputs": [],
   "source": []
  },
  {
   "cell_type": "code",
   "execution_count": 61,
   "id": "a75f1c7d",
   "metadata": {},
   "outputs": [],
   "source": [
    "def tidalPower(n = 1, dens = 1025, area = 10, v = 1, maxV = 5):\n",
    "    \"\"\"\n",
    "    P = Power generated in W\n",
    "    n = turbine efficiency [0-1]\n",
    "    dens = water density in kg/m^3\n",
    "    area = sweep area of the turbine in m^2\n",
    "    v = velocity of the flow in m/s\n",
    "    \"\"\"\n",
    "    if v < maxV:\n",
    "        P = n*dens*area*v**3/2\n",
    "    else:\n",
    "        P = 0\n",
    "    return P"
   ]
  },
  {
   "cell_type": "code",
   "execution_count": 84,
   "id": "3998c8c6",
   "metadata": {},
   "outputs": [],
   "source": [
    "def wavesPower(H = 5, Te = 10, dens = 1025, g = 9.8, maxH = 8):\n",
    "    \"\"\"\n",
    "    P  = wave energy flux per unit of wave-crest length\n",
    "    H = the significant wave height in m\n",
    "    Te = the wave energy period in s\n",
    "    dens = the water density\n",
    "    g  = the acceleration by gravity\n",
    "    \n",
    "    When the significant wave height is given in meters, \n",
    "    and the wave period in seconds, the result is the wave power in kilowatts (kW) \n",
    "    per meter of wave front length.\n",
    "    \"\"\"\n",
    "    if H < maxH:\n",
    "        P = dens*g**2*H**2*Te/64*3.14\n",
    "    else:\n",
    "        P = 0\n",
    "    return P\n",
    "    "
   ]
  },
  {
   "cell_type": "code",
   "execution_count": 85,
   "id": "c90de82a",
   "metadata": {},
   "outputs": [],
   "source": [
    "def energyProduced(passedTime = None, power = None):\n",
    "    e = power/3600*passedTime\n",
    "    return e"
   ]
  },
  {
   "cell_type": "code",
   "execution_count": 86,
   "id": "fb3e409b",
   "metadata": {},
   "outputs": [
    {
     "name": "stdout",
     "output_type": "stream",
     "text": [
      "1207.4403906250002\n"
     ]
    }
   ],
   "source": [
    "print(wavesPower()/1000)"
   ]
  },
  {
   "cell_type": "code",
   "execution_count": 64,
   "id": "2cd8613c",
   "metadata": {},
   "outputs": [
    {
     "name": "stdout",
     "output_type": "stream",
     "text": [
      "1303.4925 kWh\n"
     ]
    }
   ],
   "source": [
    "nTurbine = 0.4\n",
    "areaTurbine = 5**2 * 3.14\n",
    "velocity = 1.5\n",
    "\n",
    "#P = tidalPower(n = nTurbine, area = areaTurbine, v = velocity)\n",
    "#print(P/1000)\n",
    "\n",
    "totalEnergy = 0\n",
    "for i in range(24): #in 24 hours\n",
    "    P = tidalPower(n = nTurbine, area = areaTurbine, v = velocity)\n",
    "    energy = energyProduced(3600, P)\n",
    "    totalEnergy = totalEnergy + energy\n",
    "    #print(P/1000)\n",
    "    \n",
    "print(totalEnergy/1000,\"kWh\")\n"
   ]
  },
  {
   "cell_type": "code",
   "execution_count": null,
   "id": "75fe6062",
   "metadata": {},
   "outputs": [],
   "source": []
  },
  {
   "cell_type": "code",
   "execution_count": null,
   "id": "d495bf52",
   "metadata": {},
   "outputs": [],
   "source": []
  },
  {
   "cell_type": "code",
   "execution_count": null,
   "id": "b3da52fd",
   "metadata": {},
   "outputs": [],
   "source": []
  },
  {
   "cell_type": "code",
   "execution_count": null,
   "id": "09028bdd",
   "metadata": {},
   "outputs": [],
   "source": []
  },
  {
   "cell_type": "code",
   "execution_count": null,
   "id": "0cbdacbd",
   "metadata": {},
   "outputs": [],
   "source": []
  },
  {
   "cell_type": "code",
   "execution_count": null,
   "id": "c713b1da",
   "metadata": {},
   "outputs": [],
   "source": []
  },
  {
   "cell_type": "code",
   "execution_count": null,
   "id": "da736582",
   "metadata": {},
   "outputs": [],
   "source": []
  }
 ],
 "metadata": {
  "kernelspec": {
   "display_name": "Python 3 (ipykernel)",
   "language": "python",
   "name": "python3"
  },
  "language_info": {
   "codemirror_mode": {
    "name": "ipython",
    "version": 3
   },
   "file_extension": ".py",
   "mimetype": "text/x-python",
   "name": "python",
   "nbconvert_exporter": "python",
   "pygments_lexer": "ipython3",
   "version": "3.8.12"
  }
 },
 "nbformat": 4,
 "nbformat_minor": 5
}
