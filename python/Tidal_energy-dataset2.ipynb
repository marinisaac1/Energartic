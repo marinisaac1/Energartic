{
 "cells": [
  {
   "cell_type": "code",
   "execution_count": 17,
   "id": "030806b7",
   "metadata": {},
   "outputs": [
    {
     "name": "stdout",
     "output_type": "stream",
     "text": [
      "Collecting tqdm\n",
      "  Downloading tqdm-4.62.3-py2.py3-none-any.whl (76 kB)\n",
      "Requirement already satisfied: colorama in c:\\users\\natal\\anaconda3\\envs\\energartic\\lib\\site-packages (from tqdm) (0.4.4)\n",
      "Installing collected packages: tqdm\n",
      "Successfully installed tqdm-4.62.3\n"
     ]
    }
   ],
   "source": [
    "# ! pip install tqdm"
   ]
  },
  {
   "cell_type": "code",
   "execution_count": 1,
   "id": "e96822bf",
   "metadata": {},
   "outputs": [],
   "source": [
    "# Libraries\n",
    "import xarray as xr\n",
    "import matplotlib.pyplot as plt\n",
    "from matplotlib import animation\n",
    "\n",
    "from IPython.display import HTML\n",
    "import cartopy\n",
    "import cartopy.crs as ccrs\n",
    "from cartopy.mpl.gridliner import LONGITUDE_FORMATTER, LATITUDE_FORMATTER\n",
    "\n",
    "from matplotlib.axes import Axes\n",
    "from cartopy.mpl.geoaxes import GeoAxes\n",
    "# from hda import * # this is the PYTHON version\n",
    "\n",
    "import numpy as np\n",
    "import pandas as pd\n",
    "from tqdm import tqdm"
   ]
  },
  {
   "cell_type": "code",
   "execution_count": 8,
   "id": "ed88768d",
   "metadata": {},
   "outputs": [],
   "source": [
    "#Sea depth data\n",
    "sea_d = 'dYear/dYear'\n",
    "sea_d = xr.open_dataset(sea_d)\n",
    "sea_d\n",
    "# Three dimensions matrix that contains the depth of the sea water \n",
    "sea_d = sea_d['model_depth']\n",
    "sea_d_df = sea_d.to_dataframe(name= None, dim_order=None)\n",
    "sea_d_df = sea_d_df[~sea_d_df['model_depth'].isnull()]\n",
    "sea_d_df.to_csv(\"sea_depth_final.csv\")\n",
    "# sea_d_df[(sea_d_df[\"model_depth\"]>50) & (sea_d_df[\"model_depth\"]<500)]\n",
    "# sea_d_df"
   ]
  },
  {
   "cell_type": "code",
   "execution_count": 4,
   "id": "5e153e8e",
   "metadata": {
    "scrolled": true
   },
   "outputs": [
    {
     "data": {
      "text/plain": [
       "12.82080078125"
      ]
     },
     "execution_count": 4,
     "metadata": {},
     "output_type": "execute_result"
    }
   ],
   "source": [
    "min(sea_d_df[\"model_depth\"])"
   ]
  },
  {
   "cell_type": "code",
   "execution_count": 2,
   "id": "59ddccf1",
   "metadata": {},
   "outputs": [],
   "source": [
    "#Sea water\n",
    "\n",
    "#Northward sea water speed\n",
    "sea_v_n = 'xYear/xYear'\n",
    "sea_v_n_xr = xr.open_dataset(sea_v_n)\n",
    "# sea_v_n_xr\n",
    "# Four dimensions matrix that contains the speed in North\n",
    "sea_v_n = sea_v_n_xr['u']\n",
    "\n",
    "#Eastward sea water speed\n",
    "sea_v_e = 'yYear/yYear'\n",
    "sea_v_e_xr = xr.open_dataset(sea_v_e)\n",
    "# sea_v_e_xr\n",
    "# Four dimensions matrix that contains the speed in East\n",
    "sea_v_e = sea_v_e_xr['v']\n",
    "\n",
    "# Net speed\n",
    "sea_v = np.sqrt(np.power(sea_v_e,2)+np.power(sea_v_n,2)) \n",
    "# sea_v\n",
    "sea_v_df = sea_v.to_dataframe(name= \"speed\", dim_order=None)\n",
    "sea_v_df = sea_v_df[~sea_v_df[\"speed\"].isnull()]\n",
    "\n"
   ]
  },
  {
   "cell_type": "code",
   "execution_count": 3,
   "id": "3e377646",
   "metadata": {},
   "outputs": [
    {
     "data": {
      "text/html": [
       "<div>\n",
       "<style scoped>\n",
       "    .dataframe tbody tr th:only-of-type {\n",
       "        vertical-align: middle;\n",
       "    }\n",
       "\n",
       "    .dataframe tbody tr th {\n",
       "        vertical-align: top;\n",
       "    }\n",
       "\n",
       "    .dataframe thead th {\n",
       "        text-align: right;\n",
       "    }\n",
       "</style>\n",
       "<table border=\"1\" class=\"dataframe\">\n",
       "  <thead>\n",
       "    <tr style=\"text-align: right;\">\n",
       "      <th></th>\n",
       "      <th></th>\n",
       "      <th></th>\n",
       "      <th></th>\n",
       "      <th>latitude</th>\n",
       "      <th>longitude</th>\n",
       "      <th>speed</th>\n",
       "    </tr>\n",
       "    <tr>\n",
       "      <th>time</th>\n",
       "      <th>depth</th>\n",
       "      <th>y</th>\n",
       "      <th>x</th>\n",
       "      <th></th>\n",
       "      <th></th>\n",
       "      <th></th>\n",
       "    </tr>\n",
       "  </thead>\n",
       "  <tbody>\n",
       "    <tr>\n",
       "      <th rowspan=\"5\" valign=\"top\">2019-01-01</th>\n",
       "      <th rowspan=\"5\" valign=\"top\">0.0</th>\n",
       "      <th rowspan=\"5\" valign=\"top\">-28.500</th>\n",
       "      <th>3.375</th>\n",
       "      <td>64.641876</td>\n",
       "      <td>-38.246426</td>\n",
       "      <td>0.116099</td>\n",
       "    </tr>\n",
       "    <tr>\n",
       "      <th>3.500</th>\n",
       "      <td>64.629074</td>\n",
       "      <td>-37.998734</td>\n",
       "      <td>0.122194</td>\n",
       "    </tr>\n",
       "    <tr>\n",
       "      <th>3.625</th>\n",
       "      <td>64.615822</td>\n",
       "      <td>-37.751301</td>\n",
       "      <td>0.124140</td>\n",
       "    </tr>\n",
       "    <tr>\n",
       "      <th>3.750</th>\n",
       "      <td>64.602112</td>\n",
       "      <td>-37.504143</td>\n",
       "      <td>0.120675</td>\n",
       "    </tr>\n",
       "    <tr>\n",
       "      <th>3.875</th>\n",
       "      <td>64.587936</td>\n",
       "      <td>-37.257263</td>\n",
       "      <td>0.114130</td>\n",
       "    </tr>\n",
       "    <tr>\n",
       "      <th>...</th>\n",
       "      <th>...</th>\n",
       "      <th>...</th>\n",
       "      <th>...</th>\n",
       "      <td>...</td>\n",
       "      <td>...</td>\n",
       "      <td>...</td>\n",
       "    </tr>\n",
       "    <tr>\n",
       "      <th rowspan=\"5\" valign=\"top\">2019-12-31</th>\n",
       "      <th rowspan=\"5\" valign=\"top\">0.0</th>\n",
       "      <th rowspan=\"2\" valign=\"top\">-26.750</th>\n",
       "      <th>4.625</th>\n",
       "      <td>65.972496</td>\n",
       "      <td>-35.190697</td>\n",
       "      <td>0.083837</td>\n",
       "    </tr>\n",
       "    <tr>\n",
       "      <th>4.750</th>\n",
       "      <td>65.953957</td>\n",
       "      <td>-34.930939</td>\n",
       "      <td>0.152007</td>\n",
       "    </tr>\n",
       "    <tr>\n",
       "      <th rowspan=\"3\" valign=\"top\">-26.625</th>\n",
       "      <th>4.500</th>\n",
       "      <td>66.096512</td>\n",
       "      <td>-35.406864</td>\n",
       "      <td>0.025563</td>\n",
       "    </tr>\n",
       "    <tr>\n",
       "      <th>4.625</th>\n",
       "      <td>66.078362</td>\n",
       "      <td>-35.145546</td>\n",
       "      <td>0.060635</td>\n",
       "    </tr>\n",
       "    <tr>\n",
       "      <th>4.750</th>\n",
       "      <td>66.059731</td>\n",
       "      <td>-34.884640</td>\n",
       "      <td>0.107250</td>\n",
       "    </tr>\n",
       "  </tbody>\n",
       "</table>\n",
       "<p>51830 rows × 3 columns</p>\n",
       "</div>"
      ],
      "text/plain": [
       "                                 latitude  longitude     speed\n",
       "time       depth y       x                                    \n",
       "2019-01-01 0.0   -28.500 3.375  64.641876 -38.246426  0.116099\n",
       "                         3.500  64.629074 -37.998734  0.122194\n",
       "                         3.625  64.615822 -37.751301  0.124140\n",
       "                         3.750  64.602112 -37.504143  0.120675\n",
       "                         3.875  64.587936 -37.257263  0.114130\n",
       "...                                   ...        ...       ...\n",
       "2019-12-31 0.0   -26.750 4.625  65.972496 -35.190697  0.083837\n",
       "                         4.750  65.953957 -34.930939  0.152007\n",
       "                 -26.625 4.500  66.096512 -35.406864  0.025563\n",
       "                         4.625  66.078362 -35.145546  0.060635\n",
       "                         4.750  66.059731 -34.884640  0.107250\n",
       "\n",
       "[51830 rows x 3 columns]"
      ]
     },
     "execution_count": 3,
     "metadata": {},
     "output_type": "execute_result"
    }
   ],
   "source": [
    "sea_v_df"
   ]
  },
  {
   "cell_type": "code",
   "execution_count": 5,
   "id": "317c338f",
   "metadata": {},
   "outputs": [],
   "source": [
    "sea_v_df.to_csv(\"sea_v_final_dt2.csv\")"
   ]
  },
  {
   "cell_type": "code",
   "execution_count": 9,
   "id": "e9c138bb",
   "metadata": {},
   "outputs": [
    {
     "name": "stderr",
     "output_type": "stream",
     "text": [
      "100%|██████████| 51830/51830 [00:44<00:00, 1171.55it/s]\n"
     ]
    }
   ],
   "source": [
    "# Depth fetching \n",
    "\n",
    "depth = pd.read_csv(\"sea_depth_final.csv\", delimiter=',', decimal='.')\n",
    "sea_v = pd.read_csv(\"sea_v_final_dt2.csv\", delimiter=',', decimal='.')\n",
    "\n",
    "sea_depth = []\n",
    "counter = 0\n",
    "for row in tqdm(range(len(sea_v))): \n",
    "    value = depth[(depth[\"latitude\"] == sea_v[\"latitude\"][row]) & (depth[\"longitude\"] == sea_v[\"longitude\"][row])][\"model_depth\"].tolist()\n",
    "    if len(value) !=0:\n",
    "        sea_depth += value\n",
    "    else: \n",
    "        counter += 1\n",
    "# counter\n",
    "\n",
    "sea_v[\"sea_depth\"] = sea_depth \n",
    "# sea_v\n",
    "# sea_v.to_csv(\"Speed_depth_filter.csv\")\n",
    "\n",
    "sea_v_filter = sea_v[(sea_v[\"sea_depth\"]>40) & (sea_v[\"sea_depth\"]<200)]\n",
    "# sea_v_filter.to_csv(\"Speed_depth_filter.csv\")\n",
    "\n",
    "sea_v_filter = sea_v_filter.reset_index()\n"
   ]
  },
  {
   "cell_type": "code",
   "execution_count": null,
   "id": "10906507",
   "metadata": {},
   "outputs": [],
   "source": []
  },
  {
   "cell_type": "code",
   "execution_count": 6,
   "id": "4c60a8f7",
   "metadata": {},
   "outputs": [],
   "source": [
    "# sea_v = pd.read_csv(\"sea_v_final_dt2.csv\",delimiter=',', decimal='.')"
   ]
  },
  {
   "cell_type": "code",
   "execution_count": 15,
   "id": "667ec3cc",
   "metadata": {},
   "outputs": [],
   "source": [
    "# Power calculation \n",
    "def tidalPower(n = 1, dens = 1025, area = 10, v = 1, maxV = 5):\n",
    "    \"\"\"\n",
    "    P = Power generated in W\n",
    "    n = turbine efficiency [0-1]\n",
    "    dens = water density in kg/m^3\n",
    "    area = sweep area of the turbine in m^2\n",
    "    v = velocity of the flow in m/s\n",
    "    \"\"\"\n",
    "    if v < maxV:\n",
    "        P = n*dens*area*v**3/2\n",
    "    else:\n",
    "        P = 0\n",
    "    return P\n",
    "\n",
    "def wavesPower(H = 5, Te = 10, dens = 1025, g = 9.8, maxH = 8):\n",
    "    \"\"\"\n",
    "    P  = wave energy flux per unit of wave-crest length\n",
    "    H = the significant wave height in m\n",
    "    Te = the wave energy period in s\n",
    "    dens = the water density\n",
    "    g  = the acceleration by gravity\n",
    "    \n",
    "    When the significant wave height is given in meters, \n",
    "    and the wave period in seconds, the result is the wave power in kilowatts (kW) \n",
    "    per meter of wave front length.\n",
    "    \"\"\"\n",
    "    if H < maxH:\n",
    "        P = dens*g**2*H**2*Te/64*3.14\n",
    "    else:\n",
    "        P = 0\n",
    "    return P\n",
    "    \n",
    "def energyProduced(passedTime = None, power = None):\n",
    "    e = power/3600*passedTime\n",
    "    return e"
   ]
  },
  {
   "cell_type": "code",
   "execution_count": 16,
   "id": "3f7813ee",
   "metadata": {},
   "outputs": [
    {
     "name": "stderr",
     "output_type": "stream",
     "text": [
      "100%|██████████| 7665/7665 [00:00<00:00, 8212.19it/s]\n"
     ]
    }
   ],
   "source": [
    "# Possible power calculation \n",
    "nTurbine = 0.4\n",
    "areaTurbine = 5**2 * 3.14\n",
    "# velocity = 1.5\n",
    "out_energy = []\n",
    "\n",
    "for row in tqdm(range(len(sea_v_filter))):\n",
    "    velocity = sea_v_filter[\"speed\"][row]\n",
    "    totalEnergy = 0\n",
    "    for i in range(24): #in 24 hours\n",
    "        P = tidalPower(n = nTurbine, area = areaTurbine, v = velocity)\n",
    "        energy = energyProduced(3600, P)\n",
    "        totalEnergy = (totalEnergy + energy)\n",
    "        #print(P/1000)\n",
    "    out_energy += [totalEnergy]"
   ]
  },
  {
   "cell_type": "code",
   "execution_count": 17,
   "id": "cec89c5d",
   "metadata": {},
   "outputs": [],
   "source": [
    "sea_v_filter[\"energy\"] = out_energy\n",
    "sea_v_filter.to_csv(\"Energy_per_day_final.csv\")"
   ]
  },
  {
   "cell_type": "code",
   "execution_count": 29,
   "id": "4539819d",
   "metadata": {},
   "outputs": [],
   "source": [
    "max_energy = max(sea_v_filter[\"energy\"])"
   ]
  },
  {
   "cell_type": "code",
   "execution_count": 30,
   "id": "ad36dd65",
   "metadata": {},
   "outputs": [
    {
     "data": {
      "text/html": [
       "<div>\n",
       "<style scoped>\n",
       "    .dataframe tbody tr th:only-of-type {\n",
       "        vertical-align: middle;\n",
       "    }\n",
       "\n",
       "    .dataframe tbody tr th {\n",
       "        vertical-align: top;\n",
       "    }\n",
       "\n",
       "    .dataframe thead th {\n",
       "        text-align: right;\n",
       "    }\n",
       "</style>\n",
       "<table border=\"1\" class=\"dataframe\">\n",
       "  <thead>\n",
       "    <tr style=\"text-align: right;\">\n",
       "      <th></th>\n",
       "      <th>index</th>\n",
       "      <th>time</th>\n",
       "      <th>depth</th>\n",
       "      <th>y</th>\n",
       "      <th>x</th>\n",
       "      <th>latitude</th>\n",
       "      <th>longitude</th>\n",
       "      <th>speed</th>\n",
       "      <th>sea_depth</th>\n",
       "      <th>energy</th>\n",
       "    </tr>\n",
       "  </thead>\n",
       "  <tbody>\n",
       "    <tr>\n",
       "      <th>63938</th>\n",
       "      <td>519373</td>\n",
       "      <td>2019-01-19</td>\n",
       "      <td>0.0</td>\n",
       "      <td>-27.625</td>\n",
       "      <td>3.75</td>\n",
       "      <td>65.34461</td>\n",
       "      <td>-37.269547</td>\n",
       "      <td>0.658189</td>\n",
       "      <td>174.60449</td>\n",
       "      <td>110125.176912</td>\n",
       "    </tr>\n",
       "  </tbody>\n",
       "</table>\n",
       "</div>"
      ],
      "text/plain": [
       "        index        time  depth       y     x  latitude  longitude     speed  \\\n",
       "63938  519373  2019-01-19    0.0 -27.625  3.75  65.34461 -37.269547  0.658189   \n",
       "\n",
       "       sea_depth         energy  \n",
       "63938  174.60449  110125.176912  "
      ]
     },
     "execution_count": 30,
     "metadata": {},
     "output_type": "execute_result"
    }
   ],
   "source": [
    "sea_v_filter[sea_v_filter[\"energy\"]== max_energy]"
   ]
  },
  {
   "cell_type": "code",
   "execution_count": 31,
   "id": "0d2645a4",
   "metadata": {},
   "outputs": [
    {
     "data": {
      "text/plain": [
       "65.34461"
      ]
     },
     "execution_count": 31,
     "metadata": {},
     "output_type": "execute_result"
    }
   ],
   "source": [
    "sea_v_filter[\"latitude\"][63938]"
   ]
  },
  {
   "cell_type": "code",
   "execution_count": 35,
   "id": "9c30940e",
   "metadata": {},
   "outputs": [
    {
     "data": {
      "text/plain": [
       "29886.144695771756"
      ]
     },
     "execution_count": 35,
     "metadata": {},
     "output_type": "execute_result"
    }
   ],
   "source": [
    "max_value = sea_v_filter[(sea_v_filter[\"latitude\"]==sea_v_filter[\"latitude\"][63938]) & (sea_v_filter[\"longitude\"]==sea_v_filter[\"longitude\"][63938])]\n",
    "total_energy = max_value[\"energy\"].mean()\n",
    "total_energy"
   ]
  }
 ],
 "metadata": {
  "kernelspec": {
   "display_name": "Python 3 (ipykernel)",
   "language": "python",
   "name": "python3"
  },
  "language_info": {
   "codemirror_mode": {
    "name": "ipython",
    "version": 3
   },
   "file_extension": ".py",
   "mimetype": "text/x-python",
   "name": "python",
   "nbconvert_exporter": "python",
   "pygments_lexer": "ipython3",
   "version": "3.8.12"
  }
 },
 "nbformat": 4,
 "nbformat_minor": 5
}
